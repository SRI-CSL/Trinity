{
 "cells": [
  {
   "cell_type": "code",
   "execution_count": 2,
   "metadata": {},
   "outputs": [],
   "source": [
    "import torch\n",
    "import torchvision.transforms as T\n",
    "\n",
    "import PIL\n",
    "\n",
    "import os\n",
    "import random\n",
    "import cv2\n",
    "import numpy as np\n",
    "\n",
    "# from matplotlib import pyplot as plt \n",
    "import matplotlib.pyplot as plt\n",
    "import matplotlib.patches as patches\n",
    "\n",
    "from PIL import Image\n",
    "import copy\n",
    "import json\n",
    "import multiprocessing\n",
    "\n",
    "from torchvision.models.detection.faster_rcnn import fasterrcnn_resnet50_fpn"
   ]
  },
  {
   "cell_type": "code",
   "execution_count": 3,
   "metadata": {},
   "outputs": [],
   "source": [
    "annotations_file = \"/project/trinity/datasets/APRICOT_ORIGINAL/Annotations/apricot_annotations_test.json\"\n",
    "\n",
    "with open(annotations_file, 'r') as file:\n",
    "    data = json.load(file)\n",
    "\n",
    "annotations_coco_91 = {}\n",
    "for i in range(len(data['categories'])):\n",
    "    annotations_coco_91[data['categories'][i]['id']] = data['categories'][i]['name']\n",
    "\n",
    "patch_id_to_target = {}\n",
    "for i in range(len(data['patches'])):\n",
    "    patch_id_to_target[data['patches'][i]['id']] = data['patches'][i]['adv_target']"
   ]
  },
  {
   "cell_type": "code",
   "execution_count": 4,
   "metadata": {},
   "outputs": [],
   "source": [
    "def processData(filePath, scale=1.0, shape=(512,512)):\n",
    "    img_info = torch.load(filePath)\n",
    "    img = np.squeeze(img_info['Image'])\n",
    "    h, w, _ = img.shape\n",
    "\n",
    "    if shape is None:\n",
    "        shape = (h//8, w//8)\n",
    "\n",
    "    # img = (255.0 * img).astype(np.uint8)\n",
    "\n",
    "    # img = cv2.resize(img, (int(w * scale), int(h * scale)))\n",
    "    img = cv2.resize(img, shape)\n",
    "    img = torch.from_numpy(np.transpose(img, (2,0,1)))\n",
    "    # imgs.append(img)\n",
    "\n",
    "    mask = np.squeeze(img_info['Mask'])\n",
    "    mask = (255.0 * mask).astype(np.uint8)\n",
    "\n",
    "    # mask = cv2.resize(mask, (int(w * scale), int(h * scale)))\n",
    "    mask = cv2.resize(mask, shape)\n",
    "\n",
    "    # Make a rectangular mask\n",
    "    nonzero_indices = np.nonzero(mask)\n",
    "    min_row = np.min(nonzero_indices[0])\n",
    "    max_row = np.max(nonzero_indices[0])\n",
    "    min_col = np.min(nonzero_indices[1])\n",
    "    max_col = np.max(nonzero_indices[1])\n",
    "    mask[min_row:max_row+1, min_col:max_col+1] = 255\n",
    "\n",
    "    # masks.append(mask)\n",
    "\n",
    "\n",
    "    bounding_boxes = img_info['Annotations'][0]['boxes']\n",
    "    bboxes = np.reshape(bounding_boxes, (bounding_boxes.shape[1], bounding_boxes.shape[2]))        \n",
    "    bboxes[:, 2] = ((bboxes[:, 2] - bboxes[:, 0]) * img.shape[1]).astype(int)\n",
    "    bboxes[:, 3] = ((bboxes[:, 3] - bboxes[:, 1]) * img.shape[2]).astype(int)\n",
    "    bboxes[:, 0] = (img.shape[1] * bboxes[:, 0]).astype(int)\n",
    "    bboxes[:, 1] = (img.shape[2] * bboxes[:, 1]).astype(int)\n",
    "\n",
    "    # all_bboxes.append(bboxes)\n",
    "\n",
    "    labels = img_info['Annotations'][0]['labels']\n",
    "    labels = np.reshape(labels, (labels.shape[1]))\n",
    "    # all_labels.append(labels)\n",
    "\n",
    "    patch_id_list = img_info['Annotations'][0]['patch_id']\n",
    "    patch_id = patch_id_list[0][np.nonzero(patch_id_list[0] >= 0)[0][0]]\n",
    "    # patch_ids.append(patch_id)\n",
    "    res = (img, mask, bboxes, labels, patch_id)\n",
    "    return res\n",
    "\n",
    "def getImagesInfo(num_images=1, scale=1.0, shape=(512,512), random=True, dataset_path=None):\n",
    "    apricot_dataset = dataset_path\n",
    "    num_processes = multiprocessing.cpu_count()\n",
    "    file_paths = [os.path.join(apricot_dataset, filename) for filename in os.listdir(apricot_dataset)]\n",
    "\n",
    "    if random:\n",
    "        file_paths = random.sample(file_paths, num_images)\n",
    "    else:\n",
    "        file_paths = file_paths[:num_images]\n",
    "\n",
    "    with multiprocessing.Pool(processes=num_processes) as pool:\n",
    "        results = pool.map(processData, file_paths)\n",
    "\n",
    "    return results\n"
   ]
  },
  {
   "cell_type": "code",
   "execution_count": 5,
   "metadata": {},
   "outputs": [],
   "source": [
    "def calculate_iou(boxA, boxB):\n",
    "    xA = max(boxA[0], boxB[0])\n",
    "    yA = max(boxA[1], boxB[1])\n",
    "    xB = min(boxA[0] + boxA[2], boxB[0] + boxB[2])\n",
    "    yB = min(boxA[1] + boxA[3], boxB[1] + boxB[3])\n",
    "\n",
    "    intersection_area = max(0, xB - xA + 1) * max(0, yB - yA + 1)\n",
    "\n",
    "    boxA_area = (boxA[2] + 1) * (boxA[3] + 1)\n",
    "    boxB_area = (boxB[2] + 1) * (boxB[3] + 1)\n",
    "\n",
    "    iou = intersection_area / float(boxA_area + boxB_area - intersection_area)\n",
    "    return iou\n",
    "\n",
    "def getPatchBbox(patch_bbox, all_adversarial_bboxes, adversarial_scores, iou_threshold=0.1, score_threshold=0.3):\n",
    "    adversarial_patch_idx = -1\n",
    "    curr_max_iou = 0\n",
    "\n",
    "    for j in range(all_adversarial_bboxes.shape[0]):\n",
    "        if adversarial_scores[j] > score_threshold:\n",
    "            iou = calculate_iou(patch_bbox, all_adversarial_bboxes[j])\n",
    "            if iou >= iou_threshold:\n",
    "                if iou > curr_max_iou:\n",
    "                    curr_max_iou = iou\n",
    "                    adversarial_patch_idx = j\n",
    "\n",
    "    return adversarial_patch_idx"
   ]
  },
  {
   "cell_type": "code",
   "execution_count": 6,
   "metadata": {},
   "outputs": [],
   "source": [
    "def attackSuccessRate(num_images, all_bboxes, all_labels, all_patch_ids, adv_predictions, iou_threshold=0.1, score_threshold=0.3, print_iter=50):\n",
    "    targeted_success = 0\n",
    "    untargeted_success = 0\n",
    "    plot_titles = [\"Unsuccessful\", \"Untargeted Success\", \"Targeted Success\"]\n",
    "    attack_state = 0\n",
    "\n",
    "    for i in range(num_images):\n",
    "        attack_state = 0\n",
    "        \n",
    "        for j in range(all_bboxes[i].shape[0]):\n",
    "            if all_labels[i][j] == -10:\n",
    "                patch_bbox = np.array([all_bboxes[i][j][1], all_bboxes[i][j][0], all_bboxes[i][j][3], all_bboxes[i][j][2]])\n",
    "        \n",
    "        ########## ADVERSARIAL BOUNDING BOXES ###############\n",
    "\n",
    "        adversarial_bboxes = copy.deepcopy(adv_predictions[i]['boxes'].detach().numpy())\n",
    "        adversarial_bboxes[:, 2] = (adversarial_bboxes[:, 2] - adversarial_bboxes[:, 0]).astype(int)\n",
    "        adversarial_bboxes[:, 3] = (adversarial_bboxes[:, 3] - adversarial_bboxes[:, 1]).astype(int)\n",
    "        adversarial_bboxes[:, 0] = (adversarial_bboxes[:, 0]).astype(int)\n",
    "        adversarial_bboxes[:, 1] = (adversarial_bboxes[:, 1]).astype(int)\n",
    "\n",
    "        # Get the bounding box for the patch and check it's label\n",
    "\n",
    "        adversarial_labels = adv_predictions[i]['labels'].detach().numpy()\n",
    "        adversarial_scores = adv_predictions[i]['scores'].detach().numpy()\n",
    "\n",
    "        adversarial_patch_idx = getPatchBbox(patch_bbox, adversarial_bboxes, adversarial_scores, iou_threshold, score_threshold)\n",
    "        \n",
    "        if adversarial_patch_idx != -1:\n",
    "            attack_state = 1\n",
    "            untargeted_success += 1\n",
    "            if patch_id_to_target[all_patch_ids[i]] == adversarial_labels[adversarial_patch_idx]:\n",
    "                targeted_success += 1\n",
    "                attack_state = 2\n",
    "\n",
    "        if (i+1) % print_iter == 0:\n",
    "            print(\"Num Images Completed {}\".format(i+1))\n",
    "    return targeted_success, untargeted_success"
   ]
  },
  {
   "cell_type": "code",
   "execution_count": 7,
   "metadata": {},
   "outputs": [],
   "source": [
    "def _main(numImages, datasetPath, model, printIter=50):\n",
    "    dataset_path = datasetPath\n",
    "    num_images = numImages\n",
    "    iou_threshold = 0.1\n",
    "    score_threshold = 0.3\n",
    "\n",
    "    results = getImagesInfo(num_images=num_images, scale=0.20, shape=None, random=False, dataset_path=dataset_path)\n",
    "\n",
    "    print(\"Loading Images Completed\")\n",
    "\n",
    "    adv_imgs = [row[0] for row in results]\n",
    "    mask = [row[1] for row in results]\n",
    "    all_bboxes = [row[2] for row in results]\n",
    "    all_labels = [row[3] for row in results]\n",
    "    all_patch_ids = [row[4] for row in results]\n",
    "\n",
    "    adv_predictions = model(adv_imgs)\n",
    "\n",
    "    targeted_success, untargeted_success = attackSuccessRate(num_images, all_bboxes, all_labels, all_patch_ids, adv_predictions, iou_threshold, score_threshold, print_iter=printIter)\n",
    "    return targeted_success, untargeted_success"
   ]
  },
  {
   "cell_type": "code",
   "execution_count": 45,
   "metadata": {},
   "outputs": [
    {
     "name": "stdout",
     "output_type": "stream",
     "text": [
      "Num Images Completed 50\n",
      "Num Images Completed 100\n",
      "Num Images Completed 150\n",
      "Num Images Completed 200\n",
      "Num Images Completed 250\n",
      "Num Images Completed 300\n",
      "Num Images Completed 350\n",
      "Num Images Completed 400\n",
      "Num Images Completed 450\n",
      "Num Images Completed 500\n",
      "Num Images Completed 550\n",
      "Num Images Completed 600\n",
      "Num Images Completed 650\n",
      "Num Images Completed 700\n",
      "Num Images Completed 750\n",
      "Num Images Completed 800\n",
      "Num Images Completed 850\n"
     ]
    }
   ],
   "source": [
    "model = fasterrcnn_resnet50_fpn(pretrained=True)\n",
    "model.eval()\n",
    "\n",
    "apricot_test_dataset = \"/project/trinity/datasets/apricot/pub/apricot-mask/data_mask_v2\"\n",
    "apricot_files = os.listdir(apricot_test_dataset)\n",
    "num_test_images = len(apricot_files)\n",
    "\n",
    "test_targeted_success, test_untargeted_success = _main(num_test_images, apricot_test_dataset, model)"
   ]
  },
  {
   "cell_type": "code",
   "execution_count": 25,
   "metadata": {},
   "outputs": [
    {
     "name": "stdout",
     "output_type": "stream",
     "text": [
      "Targeted Success : 6.414662084765178\n",
      "Untargeted Success : 42.955326460481096\n"
     ]
    }
   ],
   "source": [
    "test_targeted_success_rate = test_targeted_success * 100.0 / num_test_images\n",
    "test_untargeted_success_rate = test_untargeted_success * 100.0 / num_test_images\n",
    "\n",
    "print(\"Targeted Success : {}\".format(test_targeted_success_rate))\n",
    "print(\"Untargeted Success : {}\".format(test_untargeted_success_rate))"
   ]
  },
  {
   "cell_type": "code",
   "execution_count": 8,
   "metadata": {},
   "outputs": [
    {
     "name": "stdout",
     "output_type": "stream",
     "text": [
      "Loading Images Completed\n",
      "Num Images Completed 20\n",
      "Num Images Completed 40\n",
      "Num Images Completed 60\n",
      "Num Images Completed 80\n",
      "Num Images Completed 100\n",
      "Num Images Completed 120\n"
     ]
    }
   ],
   "source": [
    "model = fasterrcnn_resnet50_fpn(pretrained=True)\n",
    "model.eval()\n",
    "\n",
    "apricot_dev_dataset = \"/project/trinity/datasets/apricot/pub/apricot-mask/dev/data_mask_v2\"\n",
    "apricot_files = os.listdir(apricot_dev_dataset)\n",
    "num_dev_images = len(apricot_files)\n",
    "\n",
    "dev_targeted_success, dev_untargeted_success = _main(num_dev_images, apricot_dev_dataset, model, 20)"
   ]
  },
  {
   "cell_type": "code",
   "execution_count": 9,
   "metadata": {},
   "outputs": [
    {
     "name": "stdout",
     "output_type": "stream",
     "text": [
      "Targeted Success : 7.246376811594203\n",
      "Untargeted Success : 63.768115942028984\n"
     ]
    }
   ],
   "source": [
    "dev_targeted_success_rate = dev_targeted_success * 100.0 / num_dev_images\n",
    "dev_untargeted_success_rate = dev_untargeted_success * 100.0 / num_dev_images\n",
    "\n",
    "print(\"Targeted Success : {}\".format(dev_targeted_success_rate))\n",
    "print(\"Untargeted Success : {}\".format(dev_untargeted_success_rate))"
   ]
  },
  {
   "cell_type": "code",
   "execution_count": 26,
   "metadata": {},
   "outputs": [
    {
     "data": {
      "image/png": "[encoded data removed]",
      "text/plain": [
       "<Figure size 1000x400 with 3 Axes>"
      ]
     },
     "metadata": {},
     "output_type": "display_data"
    }
   ],
   "source": [
    "labels = ['Targeted Success', 'Untargeted Success']\n",
    "\n",
    "test_data = [test_targeted_success_rate, test_untargeted_success_rate]\n",
    "\n",
    "dev_data = [dev_targeted_success_rate, dev_untargeted_success_rate]\n",
    "\n",
    "entire_data = [(test_targeted_success + dev_targeted_success) * 100.0 / (num_test_images + num_dev_images), \n",
    "               (test_untargeted_success + dev_untargeted_success) * 100.0 / (num_test_images + num_dev_images)]\n",
    "\n",
    "\n",
    "fig, axs = plt.subplots(1, 3, figsize=(10, 4))\n",
    "\n",
    "axs[0].set_title('Test Set : {} images'.format(num_test_images))\n",
    "\n",
    "bars = axs[0].bar(labels, test_data)\n",
    "\n",
    "for bar, value in zip(bars, test_data):\n",
    "    height = bar.get_height()\n",
    "    axs[0].annotate(f'{value:.3f}', xy=(bar.get_x() + bar.get_width() / 2, height), xytext=(0, 3),\n",
    "                    textcoords=\"offset points\", ha='center', va='bottom')\n",
    "\n",
    "\n",
    "axs[1].set_title('Dev Set : {} images'.format(num_dev_images))\n",
    "\n",
    "bars = axs[1].bar(labels, dev_data)\n",
    "\n",
    "for bar, value in zip(bars, dev_data):\n",
    "    height = bar.get_height()\n",
    "    axs[1].annotate(f'{value:.3f}', xy=(bar.get_x() + bar.get_width() / 2, height), xytext=(0, 3),\n",
    "                    textcoords=\"offset points\", ha='center', va='bottom')\n",
    "\n",
    "\n",
    "axs[2].set_title('Complete Dataset : {} images'.format(num_test_images + num_dev_images))\n",
    "\n",
    "bars = axs[2].bar(labels, entire_data)\n",
    "\n",
    "for bar, value in zip(bars, entire_data):\n",
    "    height = bar.get_height()\n",
    "    axs[2].annotate(f'{value:.3f}', xy=(bar.get_x() + bar.get_width() / 2, height), xytext=(0, 3),\n",
    "                    textcoords=\"offset points\", ha='center', va='bottom')\n",
    "# Show the plots\n",
    "plt.tight_layout()\n",
    "plt.show()"
   ]
  }
 ],
 "metadata": {
  "kernelspec": {
   "display_name": "Python 3 (ipykernel)",
   "language": "python",
   "name": "python3"
  },
  "language_info": {
   "codemirror_mode": {
    "name": "ipython",
    "version": 3
   },
   "file_extension": ".py",
   "mimetype": "text/x-python",
   "name": "python",
   "nbconvert_exporter": "python",
   "pygments_lexer": "ipython3",
   "version": "3.9.16"
  }
 },
 "nbformat": 4,
 "nbformat_minor": 2
}
