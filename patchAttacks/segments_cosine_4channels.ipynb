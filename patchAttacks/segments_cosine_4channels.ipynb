{
 "cells": [
  {
   "cell_type": "code",
   "execution_count": 1,
   "metadata": {},
   "outputs": [
    {
     "name": "stderr",
     "output_type": "stream",
     "text": [
      "/homes/e34960/anaconda3/envs/patchdiff/lib/python3.9/site-packages/tqdm/auto.py:21: TqdmWarning: IProgress not found. Please update jupyter and ipywidgets. See https://ipywidgets.readthedocs.io/en/stable/user_install.html\n",
      "  from .autonotebook import tqdm as notebook_tqdm\n"
     ]
    }
   ],
   "source": [
    "from segment_anything import SamAutomaticMaskGenerator, SamPredictor, sam_model_registry\n",
    "import cv2\n",
    "import numpy as np\n",
    "import matplotlib.pyplot as plt\n",
    "import torch\n",
    "import cv2\n",
    "import os\n",
    "import random\n",
    "import scipy"
   ]
  },
  {
   "cell_type": "code",
   "execution_count": 2,
   "metadata": {},
   "outputs": [
    {
     "name": "stdout",
     "output_type": "stream",
     "text": [
      "873\n"
     ]
    }
   ],
   "source": [
    "gt_images_folder = \"/project/trinity/datasets/apricot/pub/apricot-mask/data_mask_v2\"\n",
    "gt_images_names = os.listdir(gt_images_folder)\n",
    "\n",
    "print(len(gt_images_names))"
   ]
  },
  {
   "cell_type": "code",
   "execution_count": 3,
   "metadata": {},
   "outputs": [],
   "source": [
    "def compute_vectorized_iou(given_mask, masks):\n",
    "    given_mask_expanded = np.expand_dims(given_mask, axis=0)\n",
    "    masks_expanded = np.stack(masks)\n",
    "    intersection = np.logical_and(masks_expanded > 0, given_mask_expanded > 0)\n",
    "    union = np.logical_or(masks_expanded > 0, given_mask_expanded > 0)\n",
    "    intersection_sum = np.sum(intersection, axis=(1, 2))\n",
    "    union_sum = np.sum(union, axis=(1, 2))\n",
    "    iou_values = intersection_sum / union_sum\n",
    "    return iou_values\n",
    "\n",
    "def getRandomImages(n=1):\n",
    "    random_numbers = random.sample(range(0, len(gt_images_names)-1), n)\n",
    "\n",
    "    imgs = []\n",
    "    img_masks = []\n",
    "    for i in range(n):\n",
    "        # idx = random.randint(0,len(gt_images_names)-1)\n",
    "        img_info = torch.load(os.path.join(gt_images_folder, gt_images_names[random_numbers[i]]))\n",
    "        img = np.squeeze(img_info['Image'])\n",
    "        img = np.uint8(img * 255.0)\n",
    "        img = cv2.resize(img, (512,512), interpolation = cv2.INTER_AREA)\n",
    "        imgs.append(img)\n",
    "\n",
    "        img_mask = np.squeeze(img_info['Mask'])\n",
    "        img_mask = np.uint8(img_mask * 255.0)\n",
    "        img_mask = cv2.resize(img_mask, (512,512), interpolation = cv2.INTER_AREA)\n",
    "        img_masks.append(img_mask)\n",
    "\n",
    "    return imgs, img_masks"
   ]
  },
  {
   "cell_type": "code",
   "execution_count": 4,
   "metadata": {},
   "outputs": [],
   "source": [
    "sam = sam_model_registry[\"vit_h\"](checkpoint=\"/project/trinity/pretrained_models/sam_facebook/sam_vit_h_4b8939.pth\")\n",
    "sam.to(device='cuda:1')\n",
    "mask_generator = SamAutomaticMaskGenerator(sam)"
   ]
  },
  {
   "cell_type": "code",
   "execution_count": 6,
   "metadata": {},
   "outputs": [],
   "source": [
    "def runAll(numImages, thresholdDCT, thresholdSegmentArea, showImages=False):\n",
    "    num_images = numImages\n",
    "    img_list, mask_list = getRandomImages(num_images)\n",
    "\n",
    "    # frequency_band_percentage = frequencyBandPercentage\n",
    "    img_size = img_list[0].shape[0]\n",
    "    img_area = img_size * img_size\n",
    "\n",
    "    # If a segment is smaller than 0.5%, it will be discarded\n",
    "    threshold_segment_area = thresholdSegmentArea\n",
    "\n",
    "    patch_indices = []\n",
    "\n",
    "    top_images_to_display = 5\n",
    "\n",
    "    for i in range(num_images):\n",
    "        masks = mask_generator.generate(img_list[i])\n",
    "        all_masks = []\n",
    "        for z, meta_info in enumerate(masks):\n",
    "            all_masks.append(meta_info['segmentation'])\n",
    "\n",
    "        iou_vals = compute_vectorized_iou(mask_list[i], all_masks)\n",
    "        patch_mask_idx = np.argmax(iou_vals)\n",
    "\n",
    "        masked_img_list = []\n",
    "        dct_grayscale_list = []\n",
    "        dct_rgb_list = []\n",
    "        max_frequencies_list = []\n",
    "\n",
    "        stability_scores = []\n",
    "        predicted_ious = []\n",
    "\n",
    "        new_patch_mask_idx = 0\n",
    "        current_iter = -1\n",
    "\n",
    "        for j in range(len(masks)):\n",
    "            current_mask = masks[j]['segmentation']\n",
    "\n",
    "            if (j == patch_mask_idx) or (np.sum(current_mask == 1) >= img_area * threshold_segment_area):\n",
    "                current_iter += 1\n",
    "\n",
    "                mask_3d = np.repeat(current_mask[:, :, np.newaxis], 3, axis=2)\n",
    "                masked_img = img_list[i] * mask_3d\n",
    "                masked_img_list.append(masked_img)\n",
    "\n",
    "                # Grayscale DCT\n",
    "                gray_scale = cv2.cvtColor(masked_img, cv2.COLOR_BGR2GRAY)\n",
    "                dct_grayscale = scipy.fftpack.dct( scipy.fftpack.dct(gray_scale, axis=0, norm='ortho' ), axis=1, norm='ortho' )\n",
    "                magnitude_spectrum_grayscale = np.abs(dct_grayscale)\n",
    "                dct_grayscale_list.append(np.log(magnitude_spectrum_grayscale + 1))\n",
    "\n",
    "                # RGB DCT\n",
    "                dct_rgb = scipy.fftpack.dct( scipy.fftpack.dct(masked_img, axis=0, norm='ortho' ), axis=1, norm='ortho' )\n",
    "                magnitude_spectrum_rgb = np.abs(dct_rgb)\n",
    "                dct_rgb_list.append(np.log(magnitude_spectrum_rgb + 1))\n",
    "                \n",
    "                if j < patch_mask_idx:\n",
    "                    new_patch_mask_idx += 1\n",
    "\n",
    "                stability_scores.append(masks[j]['stability_score'])\n",
    "                predicted_ious.append(masks[j]['predicted_iou'])\n",
    "\n",
    "                # top_row = int(img_size - img_size * (1.0 - frequency_band_percentage / 2.0))\n",
    "                # bottom_row = int(img_size - img_size * frequency_band_percentage / 2.0)\n",
    "\n",
    "                # Band of frequencies for Grayscale images\n",
    "                max_frequencies_list.append(np.sum(dct_grayscale_list[current_iter] > thresholdDCT))\n",
    "        \n",
    "\n",
    "        # Normalization\n",
    "        dct_grayscale_list = np.stack(dct_grayscale_list, axis=-1)\n",
    "        dct_grayscale_list = 255.0 * (dct_grayscale_list - np.min(dct_grayscale_list)) / (np.max(dct_grayscale_list) - np.min(dct_grayscale_list))\n",
    "        \n",
    "        dct_rgb_list = np.stack(dct_rgb_list, axis=-1)\n",
    "        dct_rgb_list = 255.0 * (dct_rgb_list - np.min(dct_rgb_list)) / (np.max(dct_rgb_list) - np.min(dct_rgb_list))\n",
    "\n",
    "        # Sum over the higher frequencies (defined by frequency band percentage) for ranking the segments\n",
    "        # max_frequencies_list = np.sum(dct_grayscale_list, axis=(0,1)) - np.sum(dct_grayscale_list[top_row:bottom_row, top_row:bottom_row, :], axis=(0,1))\n",
    "\n",
    "\n",
    "        # Highest Frequency for the patch mask\n",
    "        patch_mask_freq = max_frequencies_list[new_patch_mask_idx]\n",
    "\n",
    "        max_frequencies_list = np.array(max_frequencies_list)\n",
    "        sorted_max_frequencies_list = np.sort(max_frequencies_list)[::-1]\n",
    "        sorted_indices = np.argsort(max_frequencies_list)[::-1]\n",
    "\n",
    "        patch_indices.append(np.where(sorted_max_frequencies_list == patch_mask_freq)[0][0])\n",
    " \n",
    "        if showImages:\n",
    "            plt.figure(figsize=(5,4))\n",
    "            plt.imshow(img_list[i])\n",
    "            # plt.title('Original Image')\n",
    "            plt.axis('off')\n",
    "            plt.show()\n",
    "\n",
    "            ##### Plot top 4 frequencies and the adversarial patch frequency (magnitude spectrum)\n",
    "\n",
    "            fig, axes = plt.subplots(nrows=5, ncols=top_images_to_display, figsize=(30, 24))\n",
    "            for k in range(top_images_to_display):\n",
    "                if k != top_images_to_display - 1:\n",
    "                    axes[0][k].imshow(masked_img_list[sorted_indices[k]], cmap='gray')\n",
    "                    axes[0][k].set_title('Top {} frequency component'.format(k+1))\n",
    "                    axes[0][k].axis('off')\n",
    "\n",
    "                    axes[1][k].imshow(dct_grayscale_list[:,:,sorted_indices[k]], cmap='gray')\n",
    "                    axes[1][k].set_title('DCT Grayscale')\n",
    "                    axes[1][k].axis('off')\n",
    "\n",
    "                    axes[2][k].imshow(dct_rgb_list[:,:,0,sorted_indices[k]], cmap='gray')\n",
    "                    axes[2][k].set_title('DCT R-Channel')\n",
    "                    axes[2][k].axis('off')\n",
    "\n",
    "                    axes[3][k].imshow(dct_rgb_list[:,:,1,sorted_indices[k]], cmap='gray')\n",
    "                    axes[3][k].set_title('DCT G-Channel')\n",
    "                    axes[3][k].axis('off')\n",
    "\n",
    "                    axes[4][k].imshow(dct_rgb_list[:,:,2,sorted_indices[k]], cmap='gray')\n",
    "                    axes[4][k].set_title('DCT B-Channel')\n",
    "                    axes[4][k].axis('off')\n",
    "\n",
    "\n",
    "                else:\n",
    "                    axes[0][k].imshow(masked_img_list[new_patch_mask_idx], cmap='gray')\n",
    "                    axes[0][k].set_title('Adversarial patch')\n",
    "                    axes[0][k].axis('off')\n",
    "\n",
    "                    axes[1][k].imshow(dct_grayscale_list[:,:,new_patch_mask_idx], cmap='gray')\n",
    "                    axes[1][k].set_title('DCT')\n",
    "                    axes[1][k].axis('off')\n",
    "\n",
    "                    axes[2][k].imshow(dct_rgb_list[:,:,0,new_patch_mask_idx], cmap='gray')\n",
    "                    axes[2][k].set_title('DCT R-Channel')\n",
    "                    axes[2][k].axis('off')\n",
    "\n",
    "                    axes[3][k].imshow(dct_rgb_list[:,:,1,new_patch_mask_idx], cmap='gray')\n",
    "                    axes[3][k].set_title('DCT G-Channel')\n",
    "                    axes[3][k].axis('off')\n",
    "\n",
    "                    axes[4][k].imshow(dct_rgb_list[:,:,2,new_patch_mask_idx], cmap='gray')\n",
    "                    axes[4][k].set_title('DCT B-Channel')\n",
    "                    axes[4][k].axis('off')\n",
    "            \n",
    "            plt.tight_layout()\n",
    "            plt.show()\n",
    "    \n",
    "    return patch_indices"
   ]
  },
  {
   "cell_type": "code",
   "execution_count": 7,
   "metadata": {},
   "outputs": [],
   "source": [
    "numImages = 20\n",
    "thresholdDCT = 3  # Since most of the coefficients are close to 0, after taking log(1+x) and checking the magnitude of coefficient, we won't consider it if it is less than this threshold\n",
    "thresholdSegmentArea = 0.005 # 0.5 % \n",
    "\n",
    "patch_indices = runAll(numImages, thresholdDCT, thresholdSegmentArea, showImages=True)\n"
   ]
  },
  {
   "cell_type": "code",
   "execution_count": 15,
   "metadata": {},
   "outputs": [
    {
     "data": {
      "image/png": "[encoded data removed]",
      "text/plain": [
       "<Figure size 1000x600 with 1 Axes>"
      ]
     },
     "metadata": {},
     "output_type": "display_data"
    }
   ],
   "source": [
    "hist, bins = np.histogram(patch_indices, bins=np.arange(np.max(patch_indices) + 1))\n",
    "\n",
    "plt.figure(figsize=(10,6))\n",
    "plt.rc('font', size=8)\n",
    "\n",
    "percentage = hist / len(patch_indices) * 100\n",
    "\n",
    "# Plot the percentage-wise histogram\n",
    "plt.bar(bins[:-1], percentage, align='center', width=0.8)\n",
    "plt.xlabel('Value')\n",
    "plt.ylabel('Percentage')\n",
    "plt.title('Index of the adversarial patch among the highest frequencies for {} images'.format(numImages))\n",
    "\n",
    "for i in range(len(percentage)):\n",
    "    if percentage[i] != 0.0:\n",
    "        plt.text(bins[i], percentage[i], f'{percentage[i]:.1f}', ha='center')\n",
    "\n",
    "plt.show()"
   ]
  },
  {
   "cell_type": "code",
   "execution_count": 16,
   "metadata": {},
   "outputs": [
    {
     "data": {
      "image/png": "[encoded data removed]",
      "text/plain": [
       "<Figure size 1000x600 with 1 Axes>"
      ]
     },
     "metadata": {},
     "output_type": "display_data"
    }
   ],
   "source": [
    "numImages = 100\n",
    "thresholdDCT = 2  # Since most of the coefficients are close to 0, after taking log(1+x) and checking the magnitude of coefficient, we won't consider it if it is less than this threshold\n",
    "thresholdSegmentArea = 0.005 # 0.5 % \n",
    "\n",
    "patch_indices = runAll(numImages, thresholdDCT, thresholdSegmentArea)\n",
    "\n",
    "hist, bins = np.histogram(patch_indices, bins=np.arange(np.max(patch_indices) + 1))\n",
    "\n",
    "plt.figure(figsize=(10,6))\n",
    "plt.rc('font', size=8)\n",
    "\n",
    "percentage = hist / len(patch_indices) * 100\n",
    "\n",
    "# Plot the percentage-wise histogram\n",
    "plt.bar(bins[:-1], percentage, align='center', width=0.8)\n",
    "plt.xlabel('Value')\n",
    "plt.ylabel('Percentage')\n",
    "plt.title('Index of the adversarial patch among the highest frequencies for {} images'.format(numImages))\n",
    "\n",
    "for i in range(len(percentage)):\n",
    "    if percentage[i] != 0.0:\n",
    "        plt.text(bins[i], percentage[i], f'{percentage[i]:.1f}', ha='center')\n",
    "\n",
    "plt.show()"
   ]
  }
 ],
 "metadata": {
  "kernelspec": {
   "display_name": "Python 3 (ipykernel)",
   "language": "python",
   "name": "python3"
  },
  "language_info": {
   "codemirror_mode": {
    "name": "ipython",
    "version": 3
   },
   "file_extension": ".py",
   "mimetype": "text/x-python",
   "name": "python",
   "nbconvert_exporter": "python",
   "pygments_lexer": "ipython3",
   "version": "3.9.16"
  }
 },
 "nbformat": 4,
 "nbformat_minor": 2
}
